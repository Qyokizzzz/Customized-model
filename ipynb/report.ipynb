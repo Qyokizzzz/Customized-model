{
 "cells": [
  {
   "cell_type": "code",
   "execution_count": 1,
   "metadata": {},
   "outputs": [],
   "source": [
    "from sklearn.preprocessing import MinMaxScaler\n",
    "import pandas as pd\n",
    "import numpy as np"
   ]
  },
  {
   "cell_type": "code",
   "execution_count": 36,
   "metadata": {},
   "outputs": [],
   "source": [
    "data_frame = pd.read_csv('..\\\\data\\\\000001.csv', encoding='gb18030')\n",
    "split = int(len(data_frame) * 0.8)\n",
    "data_frame = data_frame.sort_index(ascending=False)  # 把数据的顺序改成从古至今\n",
    "cols = ['收盘价', '最高价', '最低价']\n",
    "data = data_frame.get(cols)\n",
    "scaler = MinMaxScaler(feature_range=(0, 1))\n",
    "data = scaler.fit_transform(data)\n",
    "train = data[: split]\n",
    "test = data[split:]"
   ]
  },
  {
   "cell_type": "code",
   "execution_count": 3,
   "metadata": {},
   "outputs": [
    {
     "name": "stdout",
     "output_type": "stream",
     "text": [
      "(5768, 3) (1443, 3)\n"
     ]
    }
   ],
   "source": [
    "print(train.shape, test.shape)"
   ]
  },
  {
   "cell_type": "code",
   "execution_count": 4,
   "metadata": {},
   "outputs": [],
   "source": [
    "def create_dataset(data, time_steps, pre_steps, interval=False):\n",
    "    x, y = [], []\n",
    "    remainder = (len(data) - time_steps) % pre_steps if interval else 0\n",
    "    step = pre_steps if interval else 1\n",
    "\n",
    "    for i in range(0, len(data) - time_steps - pre_steps - remainder + 1, step):\n",
    "        x.append(data[i: i + time_steps])\n",
    "        y.append(data[i + time_steps: i + time_steps + pre_steps])\n",
    "\n",
    "    return np.array(x), np.array(y)"
   ]
  },
  {
   "cell_type": "code",
   "execution_count": 6,
   "metadata": {},
   "outputs": [],
   "source": [
    "from tensorflow.keras.models import Model\n",
    "from tensorflow.keras.layers import LSTM\n",
    "from tensorflow.keras.layers import Input\n",
    "from tensorflow.keras.layers import Dense"
   ]
  },
  {
   "cell_type": "code",
   "execution_count": 7,
   "metadata": {},
   "outputs": [],
   "source": [
    "from tensorflow.keras.callbacks import Callback\n",
    "import warnings\n",
    "\n",
    "\n",
    "class EarlyStoppingByLossVal(Callback):\n",
    "    def __init__(self, monitor='val_loss', value=0.00001, verbose=0):\n",
    "        super(Callback, self).__init__()\n",
    "        self.monitor = monitor\n",
    "        self.value = value\n",
    "        self.verbose = verbose\n",
    "\n",
    "    def on_epoch_end(self, epoch, logs={}):\n",
    "        current = logs.get(self.monitor)\n",
    "        if current is None:\n",
    "            warnings.warn(\"Early stopping requires %s available!\" % self.monitor, RuntimeWarning)\n",
    "\n",
    "        if current < self.value:\n",
    "            if self.verbose > 0:\n",
    "                print(\"Epoch %05d: early stopping THR\" % epoch)\n",
    "            self.model.stop_training = True"
   ]
  },
  {
   "cell_type": "code",
   "execution_count": 16,
   "metadata": {},
   "outputs": [],
   "source": [
    "early_stopping = EarlyStoppingByLossVal(\n",
    "    monitor='val_loss',\n",
    "    value=0.001,\n",
    "    verbose=1,\n",
    ")\n",
    "callbacks = [early_stopping]"
   ]
  },
  {
   "cell_type": "code",
   "execution_count": 24,
   "metadata": {},
   "outputs": [],
   "source": [
    "x_train, y_train = create_dataset(train, 120, 1)\n",
    "x_test, y_test = create_dataset(test, 120, 1)"
   ]
  },
  {
   "cell_type": "code",
   "execution_count": 25,
   "metadata": {},
   "outputs": [
    {
     "name": "stdout",
     "output_type": "stream",
     "text": [
      "(5648, 120, 3) (5648, 1, 3)\n"
     ]
    }
   ],
   "source": [
    "print(x_train.shape, y_train.shape)"
   ]
  },
  {
   "cell_type": "code",
   "execution_count": 19,
   "metadata": {},
   "outputs": [],
   "source": [
    "inputs = Input(shape=(120, 3))\n",
    "a = LSTM(50, return_sequences=True)(inputs)\n",
    "a = LSTM(50, return_sequences=True)(a)\n",
    "a = LSTM(50)(a)\n",
    "outputs = Dense(3)(a)\n",
    "model = Model(inputs=inputs, outputs=outputs)\n",
    "model.compile(loss='mse', optimizer='adam')"
   ]
  },
  {
   "cell_type": "code",
   "execution_count": 20,
   "metadata": {},
   "outputs": [
    {
     "name": "stdout",
     "output_type": "stream",
     "text": [
      "Epoch 1/100\n",
      "89/89 [==============================] - 55s 623ms/step - loss: 0.1185 - val_loss: 0.2116\n",
      "Epoch 2/100\n",
      "89/89 [==============================] - 48s 542ms/step - loss: 0.1068 - val_loss: 0.2167\n",
      "Epoch 3/100\n",
      "89/89 [==============================] - 48s 541ms/step - loss: 0.1074 - val_loss: 0.2334\n",
      "Epoch 4/100\n",
      "89/89 [==============================] - 48s 545ms/step - loss: 0.1063 - val_loss: 0.2548\n",
      "Epoch 5/100\n",
      "89/89 [==============================] - 49s 546ms/step - loss: 0.1063 - val_loss: 0.2372\n",
      "Epoch 6/100\n",
      "89/89 [==============================] - 48s 544ms/step - loss: 0.1066 - val_loss: 0.2569\n",
      "Epoch 7/100\n",
      "89/89 [==============================] - 48s 543ms/step - loss: 0.1064 - val_loss: 0.2420\n",
      "Epoch 8/100\n",
      "89/89 [==============================] - 48s 542ms/step - loss: 0.1063 - val_loss: 0.2242\n",
      "Epoch 9/100\n",
      "89/89 [==============================] - 48s 544ms/step - loss: 0.1066 - val_loss: 0.2600\n",
      "Epoch 10/100\n",
      "89/89 [==============================] - 48s 542ms/step - loss: 0.1064 - val_loss: 0.2079\n",
      "Epoch 11/100\n",
      "89/89 [==============================] - 49s 547ms/step - loss: 0.1064 - val_loss: 0.2236\n",
      "Epoch 12/100\n",
      "89/89 [==============================] - 49s 548ms/step - loss: 0.1065 - val_loss: 0.2583\n",
      "Epoch 13/100\n",
      "89/89 [==============================] - 48s 543ms/step - loss: 0.1063 - val_loss: 0.2233\n",
      "Epoch 14/100\n",
      "89/89 [==============================] - 48s 544ms/step - loss: 0.1062 - val_loss: 0.2311\n",
      "Epoch 15/100\n",
      "89/89 [==============================] - 48s 543ms/step - loss: 0.1063 - val_loss: 0.2323\n",
      "Epoch 16/100\n",
      "89/89 [==============================] - 48s 542ms/step - loss: 0.1063 - val_loss: 0.2154\n",
      "Epoch 17/100\n",
      "89/89 [==============================] - 48s 542ms/step - loss: 0.1062 - val_loss: 0.2331\n",
      "Epoch 18/100\n",
      "89/89 [==============================] - 48s 542ms/step - loss: 0.1063 - val_loss: 0.2389\n",
      "Epoch 19/100\n",
      "89/89 [==============================] - 48s 542ms/step - loss: 0.1062 - val_loss: 0.2452\n",
      "Epoch 20/100\n",
      "89/89 [==============================] - 48s 542ms/step - loss: 0.1061 - val_loss: 0.2486\n",
      "Epoch 21/100\n",
      "89/89 [==============================] - 48s 542ms/step - loss: 0.1065 - val_loss: 0.2459\n",
      "Epoch 22/100\n",
      "89/89 [==============================] - 49s 545ms/step - loss: 0.1063 - val_loss: 0.2186\n",
      "Epoch 23/100\n",
      "89/89 [==============================] - 48s 541ms/step - loss: 0.1061 - val_loss: 0.2616\n",
      "Epoch 24/100\n",
      "89/89 [==============================] - 48s 545ms/step - loss: 0.1063 - val_loss: 0.2458\n",
      "Epoch 25/100\n",
      "89/89 [==============================] - 49s 549ms/step - loss: 0.1062 - val_loss: 0.2532\n",
      "Epoch 26/100\n",
      "89/89 [==============================] - 48s 543ms/step - loss: 0.1062 - val_loss: 0.2368\n",
      "Epoch 27/100\n",
      "89/89 [==============================] - 48s 541ms/step - loss: 0.1062 - val_loss: 0.2337\n",
      "Epoch 28/100\n",
      "89/89 [==============================] - 48s 541ms/step - loss: 0.1063 - val_loss: 0.2314\n",
      "Epoch 29/100\n",
      "89/89 [==============================] - 48s 542ms/step - loss: 0.1062 - val_loss: 0.2329\n",
      "Epoch 30/100\n",
      "89/89 [==============================] - 48s 541ms/step - loss: 0.1063 - val_loss: 0.2140\n",
      "Epoch 31/100\n",
      "89/89 [==============================] - 48s 541ms/step - loss: 0.1062 - val_loss: 0.2501\n",
      "Epoch 32/100\n",
      "89/89 [==============================] - 48s 543ms/step - loss: 0.1062 - val_loss: 0.2341\n",
      "Epoch 33/100\n",
      "89/89 [==============================] - 49s 551ms/step - loss: 0.1062 - val_loss: 0.2349\n",
      "Epoch 34/100\n",
      "89/89 [==============================] - 48s 541ms/step - loss: 0.1061 - val_loss: 0.2416\n",
      "Epoch 35/100\n",
      "89/89 [==============================] - 48s 543ms/step - loss: 0.1062 - val_loss: 0.2446\n",
      "Epoch 36/100\n",
      "89/89 [==============================] - 48s 542ms/step - loss: 0.1061 - val_loss: 0.2470\n",
      "Epoch 37/100\n",
      "65/89 [====================>.........] - ETA: 12s - loss: 0.1002"
     ]
    },
    {
     "ename": "KeyboardInterrupt",
     "evalue": "",
     "output_type": "error",
     "traceback": [
      "\u001b[1;31m---------------------------------------------------------------------------\u001b[0m",
      "\u001b[1;31mKeyboardInterrupt\u001b[0m                         Traceback (most recent call last)",
      "\u001b[1;32m<ipython-input-20-82ba55281eae>\u001b[0m in \u001b[0;36m<module>\u001b[1;34m\u001b[0m\n\u001b[0;32m      6\u001b[0m     \u001b[0mverbose\u001b[0m\u001b[1;33m=\u001b[0m\u001b[1;36m1\u001b[0m\u001b[1;33m,\u001b[0m\u001b[1;33m\u001b[0m\u001b[1;33m\u001b[0m\u001b[0m\n\u001b[0;32m      7\u001b[0m     \u001b[0mcallbacks\u001b[0m\u001b[1;33m=\u001b[0m\u001b[0mcallbacks\u001b[0m\u001b[1;33m,\u001b[0m\u001b[1;33m\u001b[0m\u001b[1;33m\u001b[0m\u001b[0m\n\u001b[1;32m----> 8\u001b[1;33m     \u001b[0mvalidation_data\u001b[0m\u001b[1;33m=\u001b[0m\u001b[1;33m(\u001b[0m\u001b[0mx_test\u001b[0m\u001b[1;33m,\u001b[0m \u001b[0my_test\u001b[0m\u001b[1;33m)\u001b[0m\u001b[1;33m\u001b[0m\u001b[1;33m\u001b[0m\u001b[0m\n\u001b[0m\u001b[0;32m      9\u001b[0m )\n",
      "\u001b[1;32mf:\\anaconda\\envs\\py3.6\\lib\\site-packages\\tensorflow\\python\\keras\\engine\\training.py\u001b[0m in \u001b[0;36m_method_wrapper\u001b[1;34m(self, *args, **kwargs)\u001b[0m\n\u001b[0;32m     64\u001b[0m   \u001b[1;32mdef\u001b[0m \u001b[0m_method_wrapper\u001b[0m\u001b[1;33m(\u001b[0m\u001b[0mself\u001b[0m\u001b[1;33m,\u001b[0m \u001b[1;33m*\u001b[0m\u001b[0margs\u001b[0m\u001b[1;33m,\u001b[0m \u001b[1;33m**\u001b[0m\u001b[0mkwargs\u001b[0m\u001b[1;33m)\u001b[0m\u001b[1;33m:\u001b[0m\u001b[1;33m\u001b[0m\u001b[1;33m\u001b[0m\u001b[0m\n\u001b[0;32m     65\u001b[0m     \u001b[1;32mif\u001b[0m \u001b[1;32mnot\u001b[0m \u001b[0mself\u001b[0m\u001b[1;33m.\u001b[0m\u001b[0m_in_multi_worker_mode\u001b[0m\u001b[1;33m(\u001b[0m\u001b[1;33m)\u001b[0m\u001b[1;33m:\u001b[0m  \u001b[1;31m# pylint: disable=protected-access\u001b[0m\u001b[1;33m\u001b[0m\u001b[1;33m\u001b[0m\u001b[0m\n\u001b[1;32m---> 66\u001b[1;33m       \u001b[1;32mreturn\u001b[0m \u001b[0mmethod\u001b[0m\u001b[1;33m(\u001b[0m\u001b[0mself\u001b[0m\u001b[1;33m,\u001b[0m \u001b[1;33m*\u001b[0m\u001b[0margs\u001b[0m\u001b[1;33m,\u001b[0m \u001b[1;33m**\u001b[0m\u001b[0mkwargs\u001b[0m\u001b[1;33m)\u001b[0m\u001b[1;33m\u001b[0m\u001b[1;33m\u001b[0m\u001b[0m\n\u001b[0m\u001b[0;32m     67\u001b[0m \u001b[1;33m\u001b[0m\u001b[0m\n\u001b[0;32m     68\u001b[0m     \u001b[1;31m# Running inside `run_distribute_coordinator` already.\u001b[0m\u001b[1;33m\u001b[0m\u001b[1;33m\u001b[0m\u001b[1;33m\u001b[0m\u001b[0m\n",
      "\u001b[1;32mf:\\anaconda\\envs\\py3.6\\lib\\site-packages\\tensorflow\\python\\keras\\engine\\training.py\u001b[0m in \u001b[0;36mfit\u001b[1;34m(self, x, y, batch_size, epochs, verbose, callbacks, validation_split, validation_data, shuffle, class_weight, sample_weight, initial_epoch, steps_per_epoch, validation_steps, validation_batch_size, validation_freq, max_queue_size, workers, use_multiprocessing)\u001b[0m\n\u001b[0;32m    846\u001b[0m                 batch_size=batch_size):\n\u001b[0;32m    847\u001b[0m               \u001b[0mcallbacks\u001b[0m\u001b[1;33m.\u001b[0m\u001b[0mon_train_batch_begin\u001b[0m\u001b[1;33m(\u001b[0m\u001b[0mstep\u001b[0m\u001b[1;33m)\u001b[0m\u001b[1;33m\u001b[0m\u001b[1;33m\u001b[0m\u001b[0m\n\u001b[1;32m--> 848\u001b[1;33m               \u001b[0mtmp_logs\u001b[0m \u001b[1;33m=\u001b[0m \u001b[0mtrain_function\u001b[0m\u001b[1;33m(\u001b[0m\u001b[0miterator\u001b[0m\u001b[1;33m)\u001b[0m\u001b[1;33m\u001b[0m\u001b[1;33m\u001b[0m\u001b[0m\n\u001b[0m\u001b[0;32m    849\u001b[0m               \u001b[1;31m# Catch OutOfRangeError for Datasets of unknown size.\u001b[0m\u001b[1;33m\u001b[0m\u001b[1;33m\u001b[0m\u001b[1;33m\u001b[0m\u001b[0m\n\u001b[0;32m    850\u001b[0m               \u001b[1;31m# This blocks until the batch has finished executing.\u001b[0m\u001b[1;33m\u001b[0m\u001b[1;33m\u001b[0m\u001b[1;33m\u001b[0m\u001b[0m\n",
      "\u001b[1;32mf:\\anaconda\\envs\\py3.6\\lib\\site-packages\\tensorflow\\python\\eager\\def_function.py\u001b[0m in \u001b[0;36m__call__\u001b[1;34m(self, *args, **kwds)\u001b[0m\n\u001b[0;32m    578\u001b[0m         \u001b[0mxla_context\u001b[0m\u001b[1;33m.\u001b[0m\u001b[0mExit\u001b[0m\u001b[1;33m(\u001b[0m\u001b[1;33m)\u001b[0m\u001b[1;33m\u001b[0m\u001b[1;33m\u001b[0m\u001b[0m\n\u001b[0;32m    579\u001b[0m     \u001b[1;32melse\u001b[0m\u001b[1;33m:\u001b[0m\u001b[1;33m\u001b[0m\u001b[1;33m\u001b[0m\u001b[0m\n\u001b[1;32m--> 580\u001b[1;33m       \u001b[0mresult\u001b[0m \u001b[1;33m=\u001b[0m \u001b[0mself\u001b[0m\u001b[1;33m.\u001b[0m\u001b[0m_call\u001b[0m\u001b[1;33m(\u001b[0m\u001b[1;33m*\u001b[0m\u001b[0margs\u001b[0m\u001b[1;33m,\u001b[0m \u001b[1;33m**\u001b[0m\u001b[0mkwds\u001b[0m\u001b[1;33m)\u001b[0m\u001b[1;33m\u001b[0m\u001b[1;33m\u001b[0m\u001b[0m\n\u001b[0m\u001b[0;32m    581\u001b[0m \u001b[1;33m\u001b[0m\u001b[0m\n\u001b[0;32m    582\u001b[0m     \u001b[1;32mif\u001b[0m \u001b[0mtracing_count\u001b[0m \u001b[1;33m==\u001b[0m \u001b[0mself\u001b[0m\u001b[1;33m.\u001b[0m\u001b[0m_get_tracing_count\u001b[0m\u001b[1;33m(\u001b[0m\u001b[1;33m)\u001b[0m\u001b[1;33m:\u001b[0m\u001b[1;33m\u001b[0m\u001b[1;33m\u001b[0m\u001b[0m\n",
      "\u001b[1;32mf:\\anaconda\\envs\\py3.6\\lib\\site-packages\\tensorflow\\python\\eager\\def_function.py\u001b[0m in \u001b[0;36m_call\u001b[1;34m(self, *args, **kwds)\u001b[0m\n\u001b[0;32m    609\u001b[0m       \u001b[1;31m# In this case we have created variables on the first call, so we run the\u001b[0m\u001b[1;33m\u001b[0m\u001b[1;33m\u001b[0m\u001b[1;33m\u001b[0m\u001b[0m\n\u001b[0;32m    610\u001b[0m       \u001b[1;31m# defunned version which is guaranteed to never create variables.\u001b[0m\u001b[1;33m\u001b[0m\u001b[1;33m\u001b[0m\u001b[1;33m\u001b[0m\u001b[0m\n\u001b[1;32m--> 611\u001b[1;33m       \u001b[1;32mreturn\u001b[0m \u001b[0mself\u001b[0m\u001b[1;33m.\u001b[0m\u001b[0m_stateless_fn\u001b[0m\u001b[1;33m(\u001b[0m\u001b[1;33m*\u001b[0m\u001b[0margs\u001b[0m\u001b[1;33m,\u001b[0m \u001b[1;33m**\u001b[0m\u001b[0mkwds\u001b[0m\u001b[1;33m)\u001b[0m  \u001b[1;31m# pylint: disable=not-callable\u001b[0m\u001b[1;33m\u001b[0m\u001b[1;33m\u001b[0m\u001b[0m\n\u001b[0m\u001b[0;32m    612\u001b[0m     \u001b[1;32melif\u001b[0m \u001b[0mself\u001b[0m\u001b[1;33m.\u001b[0m\u001b[0m_stateful_fn\u001b[0m \u001b[1;32mis\u001b[0m \u001b[1;32mnot\u001b[0m \u001b[1;32mNone\u001b[0m\u001b[1;33m:\u001b[0m\u001b[1;33m\u001b[0m\u001b[1;33m\u001b[0m\u001b[0m\n\u001b[0;32m    613\u001b[0m       \u001b[1;31m# Release the lock early so that multiple threads can perform the call\u001b[0m\u001b[1;33m\u001b[0m\u001b[1;33m\u001b[0m\u001b[1;33m\u001b[0m\u001b[0m\n",
      "\u001b[1;32mf:\\anaconda\\envs\\py3.6\\lib\\site-packages\\tensorflow\\python\\eager\\function.py\u001b[0m in \u001b[0;36m__call__\u001b[1;34m(self, *args, **kwargs)\u001b[0m\n\u001b[0;32m   2418\u001b[0m     \u001b[1;32mwith\u001b[0m \u001b[0mself\u001b[0m\u001b[1;33m.\u001b[0m\u001b[0m_lock\u001b[0m\u001b[1;33m:\u001b[0m\u001b[1;33m\u001b[0m\u001b[1;33m\u001b[0m\u001b[0m\n\u001b[0;32m   2419\u001b[0m       \u001b[0mgraph_function\u001b[0m\u001b[1;33m,\u001b[0m \u001b[0margs\u001b[0m\u001b[1;33m,\u001b[0m \u001b[0mkwargs\u001b[0m \u001b[1;33m=\u001b[0m \u001b[0mself\u001b[0m\u001b[1;33m.\u001b[0m\u001b[0m_maybe_define_function\u001b[0m\u001b[1;33m(\u001b[0m\u001b[0margs\u001b[0m\u001b[1;33m,\u001b[0m \u001b[0mkwargs\u001b[0m\u001b[1;33m)\u001b[0m\u001b[1;33m\u001b[0m\u001b[1;33m\u001b[0m\u001b[0m\n\u001b[1;32m-> 2420\u001b[1;33m     \u001b[1;32mreturn\u001b[0m \u001b[0mgraph_function\u001b[0m\u001b[1;33m.\u001b[0m\u001b[0m_filtered_call\u001b[0m\u001b[1;33m(\u001b[0m\u001b[0margs\u001b[0m\u001b[1;33m,\u001b[0m \u001b[0mkwargs\u001b[0m\u001b[1;33m)\u001b[0m  \u001b[1;31m# pylint: disable=protected-access\u001b[0m\u001b[1;33m\u001b[0m\u001b[1;33m\u001b[0m\u001b[0m\n\u001b[0m\u001b[0;32m   2421\u001b[0m \u001b[1;33m\u001b[0m\u001b[0m\n\u001b[0;32m   2422\u001b[0m   \u001b[1;33m@\u001b[0m\u001b[0mproperty\u001b[0m\u001b[1;33m\u001b[0m\u001b[1;33m\u001b[0m\u001b[0m\n",
      "\u001b[1;32mf:\\anaconda\\envs\\py3.6\\lib\\site-packages\\tensorflow\\python\\eager\\function.py\u001b[0m in \u001b[0;36m_filtered_call\u001b[1;34m(self, args, kwargs)\u001b[0m\n\u001b[0;32m   1663\u001b[0m          if isinstance(t, (ops.Tensor,\n\u001b[0;32m   1664\u001b[0m                            resource_variable_ops.BaseResourceVariable))),\n\u001b[1;32m-> 1665\u001b[1;33m         self.captured_inputs)\n\u001b[0m\u001b[0;32m   1666\u001b[0m \u001b[1;33m\u001b[0m\u001b[0m\n\u001b[0;32m   1667\u001b[0m   \u001b[1;32mdef\u001b[0m \u001b[0m_call_flat\u001b[0m\u001b[1;33m(\u001b[0m\u001b[0mself\u001b[0m\u001b[1;33m,\u001b[0m \u001b[0margs\u001b[0m\u001b[1;33m,\u001b[0m \u001b[0mcaptured_inputs\u001b[0m\u001b[1;33m,\u001b[0m \u001b[0mcancellation_manager\u001b[0m\u001b[1;33m=\u001b[0m\u001b[1;32mNone\u001b[0m\u001b[1;33m)\u001b[0m\u001b[1;33m:\u001b[0m\u001b[1;33m\u001b[0m\u001b[1;33m\u001b[0m\u001b[0m\n",
      "\u001b[1;32mf:\\anaconda\\envs\\py3.6\\lib\\site-packages\\tensorflow\\python\\eager\\function.py\u001b[0m in \u001b[0;36m_call_flat\u001b[1;34m(self, args, captured_inputs, cancellation_manager)\u001b[0m\n\u001b[0;32m   1744\u001b[0m       \u001b[1;31m# No tape is watching; skip to running the function.\u001b[0m\u001b[1;33m\u001b[0m\u001b[1;33m\u001b[0m\u001b[1;33m\u001b[0m\u001b[0m\n\u001b[0;32m   1745\u001b[0m       return self._build_call_outputs(self._inference_function.call(\n\u001b[1;32m-> 1746\u001b[1;33m           ctx, args, cancellation_manager=cancellation_manager))\n\u001b[0m\u001b[0;32m   1747\u001b[0m     forward_backward = self._select_forward_and_backward_functions(\n\u001b[0;32m   1748\u001b[0m         \u001b[0margs\u001b[0m\u001b[1;33m,\u001b[0m\u001b[1;33m\u001b[0m\u001b[1;33m\u001b[0m\u001b[0m\n",
      "\u001b[1;32mf:\\anaconda\\envs\\py3.6\\lib\\site-packages\\tensorflow\\python\\eager\\function.py\u001b[0m in \u001b[0;36mcall\u001b[1;34m(self, ctx, args, cancellation_manager)\u001b[0m\n\u001b[0;32m    596\u001b[0m               \u001b[0minputs\u001b[0m\u001b[1;33m=\u001b[0m\u001b[0margs\u001b[0m\u001b[1;33m,\u001b[0m\u001b[1;33m\u001b[0m\u001b[1;33m\u001b[0m\u001b[0m\n\u001b[0;32m    597\u001b[0m               \u001b[0mattrs\u001b[0m\u001b[1;33m=\u001b[0m\u001b[0mattrs\u001b[0m\u001b[1;33m,\u001b[0m\u001b[1;33m\u001b[0m\u001b[1;33m\u001b[0m\u001b[0m\n\u001b[1;32m--> 598\u001b[1;33m               ctx=ctx)\n\u001b[0m\u001b[0;32m    599\u001b[0m         \u001b[1;32melse\u001b[0m\u001b[1;33m:\u001b[0m\u001b[1;33m\u001b[0m\u001b[1;33m\u001b[0m\u001b[0m\n\u001b[0;32m    600\u001b[0m           outputs = execute.execute_with_cancellation(\n",
      "\u001b[1;32mf:\\anaconda\\envs\\py3.6\\lib\\site-packages\\tensorflow\\python\\eager\\execute.py\u001b[0m in \u001b[0;36mquick_execute\u001b[1;34m(op_name, num_outputs, inputs, attrs, ctx, name)\u001b[0m\n\u001b[0;32m     58\u001b[0m     \u001b[0mctx\u001b[0m\u001b[1;33m.\u001b[0m\u001b[0mensure_initialized\u001b[0m\u001b[1;33m(\u001b[0m\u001b[1;33m)\u001b[0m\u001b[1;33m\u001b[0m\u001b[1;33m\u001b[0m\u001b[0m\n\u001b[0;32m     59\u001b[0m     tensors = pywrap_tfe.TFE_Py_Execute(ctx._handle, device_name, op_name,\n\u001b[1;32m---> 60\u001b[1;33m                                         inputs, attrs, num_outputs)\n\u001b[0m\u001b[0;32m     61\u001b[0m   \u001b[1;32mexcept\u001b[0m \u001b[0mcore\u001b[0m\u001b[1;33m.\u001b[0m\u001b[0m_NotOkStatusException\u001b[0m \u001b[1;32mas\u001b[0m \u001b[0me\u001b[0m\u001b[1;33m:\u001b[0m\u001b[1;33m\u001b[0m\u001b[1;33m\u001b[0m\u001b[0m\n\u001b[0;32m     62\u001b[0m     \u001b[1;32mif\u001b[0m \u001b[0mname\u001b[0m \u001b[1;32mis\u001b[0m \u001b[1;32mnot\u001b[0m \u001b[1;32mNone\u001b[0m\u001b[1;33m:\u001b[0m\u001b[1;33m\u001b[0m\u001b[1;33m\u001b[0m\u001b[0m\n",
      "\u001b[1;31mKeyboardInterrupt\u001b[0m: "
     ]
    }
   ],
   "source": [
    "model.fit(\n",
    "    x_train,\n",
    "    y_train,\n",
    "    epochs=100,\n",
    "    batch_size=64,\n",
    "    verbose=1,\n",
    "    callbacks=callbacks,\n",
    "    validation_data=(x_test, y_test)\n",
    ")"
   ]
  },
  {
   "cell_type": "code",
   "execution_count": 37,
   "metadata": {},
   "outputs": [],
   "source": [
    "x_train, y_train = create_dataset(train, 1, 1)\n",
    "x_test, y_test = create_dataset(test, 1, 1)"
   ]
  },
  {
   "cell_type": "code",
   "execution_count": 38,
   "metadata": {},
   "outputs": [
    {
     "name": "stdout",
     "output_type": "stream",
     "text": [
      "(5767, 1, 3) (5767, 1, 3)\n"
     ]
    }
   ],
   "source": [
    "print(x_train.shape, y_train.shape)"
   ]
  },
  {
   "cell_type": "code",
   "execution_count": 39,
   "metadata": {},
   "outputs": [
    {
     "name": "stdout",
     "output_type": "stream",
     "text": [
      "[[[0.         0.         0.        ]]\n",
      "\n",
      " [[0.00079163 0.00078742 0.00063124]]\n",
      "\n",
      " [[0.00169682 0.0016878  0.00154021]]\n",
      "\n",
      " ...\n",
      "\n",
      " [[0.32833606 0.32659153 0.32987495]]\n",
      "\n",
      " [[0.3278215  0.32744457 0.3301936 ]]\n",
      "\n",
      " [[0.32586999 0.32535059 0.32760419]]]\n"
     ]
    }
   ],
   "source": [
    "print(x_train)"
   ]
  },
  {
   "cell_type": "code",
   "execution_count": 40,
   "metadata": {},
   "outputs": [],
   "source": [
    "inputs2 = Input(shape=(1, 3))\n",
    "a = LSTM(120)(inputs2)\n",
    "outputs2 = Dense(3)(a)\n",
    "model2 = Model(inputs=inputs2, outputs=outputs2)\n",
    "model2.compile(loss='mse', optimizer='adam')"
   ]
  },
  {
   "cell_type": "code",
   "execution_count": 41,
   "metadata": {},
   "outputs": [
    {
     "name": "stdout",
     "output_type": "stream",
     "text": [
      "Epoch 1/100\n",
      "91/91 [==============================] - 4s 39ms/step - loss: 0.0428 - val_loss: 0.0395\n",
      "Epoch 2/100\n",
      "91/91 [==============================] - 1s 7ms/step - loss: 0.0283 - val_loss: 0.0498\n",
      "Epoch 3/100\n",
      "91/91 [==============================] - 1s 7ms/step - loss: 0.0274 - val_loss: 0.0619\n",
      "Epoch 4/100\n",
      "91/91 [==============================] - 1s 7ms/step - loss: 0.0274 - val_loss: 0.0627\n",
      "Epoch 5/100\n",
      "91/91 [==============================] - 1s 7ms/step - loss: 0.0275 - val_loss: 0.0553\n",
      "Epoch 6/100\n",
      "91/91 [==============================] - 1s 7ms/step - loss: 0.0275 - val_loss: 0.0589\n",
      "Epoch 7/100\n",
      "91/91 [==============================] - 1s 7ms/step - loss: 0.0275 - val_loss: 0.0540\n",
      "Epoch 8/100\n",
      "91/91 [==============================] - 1s 8ms/step - loss: 0.0274 - val_loss: 0.0614\n",
      "Epoch 9/100\n",
      "91/91 [==============================] - 1s 7ms/step - loss: 0.0274 - val_loss: 0.0627\n",
      "Epoch 10/100\n",
      "91/91 [==============================] - 1s 8ms/step - loss: 0.0275 - val_loss: 0.0629\n",
      "Epoch 11/100\n",
      "91/91 [==============================] - 1s 7ms/step - loss: 0.0274 - val_loss: 0.0620\n",
      "Epoch 12/100\n",
      "91/91 [==============================] - 1s 7ms/step - loss: 0.0275 - val_loss: 0.0586\n",
      "Epoch 13/100\n",
      "91/91 [==============================] - 1s 8ms/step - loss: 0.0274 - val_loss: 0.0595\n",
      "Epoch 14/100\n",
      "91/91 [==============================] - 1s 7ms/step - loss: 0.0274 - val_loss: 0.0548\n",
      "Epoch 15/100\n",
      "91/91 [==============================] - 1s 7ms/step - loss: 0.0274 - val_loss: 0.0536\n",
      "Epoch 16/100\n",
      "91/91 [==============================] - 1s 7ms/step - loss: 0.0274 - val_loss: 0.0560\n",
      "Epoch 17/100\n",
      "91/91 [==============================] - 1s 9ms/step - loss: 0.0274 - val_loss: 0.0564\n",
      "Epoch 18/100\n",
      "91/91 [==============================] - 1s 7ms/step - loss: 0.0274 - val_loss: 0.0645\n",
      "Epoch 19/100\n",
      "91/91 [==============================] - 1s 7ms/step - loss: 0.0274 - val_loss: 0.0622\n",
      "Epoch 20/100\n",
      "91/91 [==============================] - 1s 7ms/step - loss: 0.0274 - val_loss: 0.0602\n",
      "Epoch 21/100\n",
      "91/91 [==============================] - 1s 7ms/step - loss: 0.0276 - val_loss: 0.0552\n",
      "Epoch 22/100\n",
      "91/91 [==============================] - 1s 7ms/step - loss: 0.0275 - val_loss: 0.0557\n",
      "Epoch 23/100\n",
      "91/91 [==============================] - 1s 7ms/step - loss: 0.0274 - val_loss: 0.0680\n",
      "Epoch 24/100\n",
      "91/91 [==============================] - 1s 8ms/step - loss: 0.0274 - val_loss: 0.0551\n",
      "Epoch 25/100\n",
      "91/91 [==============================] - 1s 8ms/step - loss: 0.0274 - val_loss: 0.0560\n",
      "Epoch 26/100\n",
      "91/91 [==============================] - 1s 8ms/step - loss: 0.0275 - val_loss: 0.0613\n",
      "Epoch 27/100\n",
      "91/91 [==============================] - 1s 7ms/step - loss: 0.0275 - val_loss: 0.0582\n",
      "Epoch 28/100\n",
      "91/91 [==============================] - 1s 8ms/step - loss: 0.0274 - val_loss: 0.0628\n",
      "Epoch 29/100\n",
      "91/91 [==============================] - 1s 7ms/step - loss: 0.0274 - val_loss: 0.0580\n",
      "Epoch 30/100\n",
      "91/91 [==============================] - 1s 7ms/step - loss: 0.0275 - val_loss: 0.0549\n",
      "Epoch 31/100\n",
      "91/91 [==============================] - 1s 7ms/step - loss: 0.0274 - val_loss: 0.0577\n",
      "Epoch 32/100\n",
      "91/91 [==============================] - 1s 7ms/step - loss: 0.0274 - val_loss: 0.0609\n",
      "Epoch 33/100\n",
      "91/91 [==============================] - 1s 7ms/step - loss: 0.0275 - val_loss: 0.0542\n",
      "Epoch 34/100\n",
      "91/91 [==============================] - 1s 7ms/step - loss: 0.0275 - val_loss: 0.0629\n",
      "Epoch 35/100\n",
      "91/91 [==============================] - 1s 8ms/step - loss: 0.0275 - val_loss: 0.0603\n",
      "Epoch 36/100\n",
      "91/91 [==============================] - 1s 7ms/step - loss: 0.0275 - val_loss: 0.0674\n",
      "Epoch 37/100\n",
      "91/91 [==============================] - 1s 7ms/step - loss: 0.0274 - val_loss: 0.0558\n",
      "Epoch 38/100\n",
      "91/91 [==============================] - 1s 7ms/step - loss: 0.0274 - val_loss: 0.0567\n",
      "Epoch 39/100\n",
      "91/91 [==============================] - 1s 7ms/step - loss: 0.0275 - val_loss: 0.0584\n",
      "Epoch 40/100\n",
      "91/91 [==============================] - 1s 7ms/step - loss: 0.0275 - val_loss: 0.0555\n",
      "Epoch 41/100\n",
      "91/91 [==============================] - 1s 8ms/step - loss: 0.0274 - val_loss: 0.0606\n",
      "Epoch 42/100\n",
      "91/91 [==============================] - 1s 8ms/step - loss: 0.0275 - val_loss: 0.0625\n",
      "Epoch 43/100\n",
      "91/91 [==============================] - 1s 7ms/step - loss: 0.0274 - val_loss: 0.0561\n",
      "Epoch 44/100\n",
      "91/91 [==============================] - 1s 7ms/step - loss: 0.0274 - val_loss: 0.0611\n",
      "Epoch 45/100\n",
      "91/91 [==============================] - 1s 8ms/step - loss: 0.0275 - val_loss: 0.0558\n",
      "Epoch 46/100\n",
      "91/91 [==============================] - 1s 7ms/step - loss: 0.0275 - val_loss: 0.0591\n",
      "Epoch 47/100\n",
      "91/91 [==============================] - 1s 7ms/step - loss: 0.0275 - val_loss: 0.0648\n",
      "Epoch 48/100\n",
      "91/91 [==============================] - 1s 7ms/step - loss: 0.0274 - val_loss: 0.0622\n",
      "Epoch 49/100\n",
      "91/91 [==============================] - 1s 8ms/step - loss: 0.0274 - val_loss: 0.0564\n",
      "Epoch 50/100\n",
      "91/91 [==============================] - 1s 7ms/step - loss: 0.0274 - val_loss: 0.0525\n",
      "Epoch 51/100\n",
      "91/91 [==============================] - 1s 7ms/step - loss: 0.0274 - val_loss: 0.0521\n",
      "Epoch 52/100\n",
      "91/91 [==============================] - 1s 7ms/step - loss: 0.0276 - val_loss: 0.0589\n",
      "Epoch 53/100\n",
      "91/91 [==============================] - 1s 7ms/step - loss: 0.0275 - val_loss: 0.0596\n",
      "Epoch 54/100\n",
      "91/91 [==============================] - 1s 9ms/step - loss: 0.0275 - val_loss: 0.0527\n",
      "Epoch 55/100\n",
      "91/91 [==============================] - 1s 7ms/step - loss: 0.0274 - val_loss: 0.0573\n",
      "Epoch 56/100\n",
      "91/91 [==============================] - 1s 7ms/step - loss: 0.0274 - val_loss: 0.0549\n",
      "Epoch 57/100\n",
      "91/91 [==============================] - 1s 7ms/step - loss: 0.0275 - val_loss: 0.0640\n",
      "Epoch 58/100\n",
      "91/91 [==============================] - 1s 7ms/step - loss: 0.0274 - val_loss: 0.0572\n",
      "Epoch 59/100\n",
      "91/91 [==============================] - 1s 7ms/step - loss: 0.0274 - val_loss: 0.0572\n",
      "Epoch 60/100\n",
      "91/91 [==============================] - 1s 7ms/step - loss: 0.0274 - val_loss: 0.0520\n",
      "Epoch 61/100\n",
      "91/91 [==============================] - 1s 7ms/step - loss: 0.0275 - val_loss: 0.0604\n",
      "Epoch 62/100\n",
      "91/91 [==============================] - 1s 7ms/step - loss: 0.0275 - val_loss: 0.0595\n",
      "Epoch 63/100\n",
      "91/91 [==============================] - 1s 9ms/step - loss: 0.0274 - val_loss: 0.0664\n",
      "Epoch 64/100\n",
      "91/91 [==============================] - 1s 8ms/step - loss: 0.0274 - val_loss: 0.0635\n",
      "Epoch 65/100\n",
      "91/91 [==============================] - 1s 7ms/step - loss: 0.0275 - val_loss: 0.0575\n",
      "Epoch 66/100\n",
      "91/91 [==============================] - 1s 7ms/step - loss: 0.0274 - val_loss: 0.0516\n",
      "Epoch 67/100\n",
      "91/91 [==============================] - 1s 7ms/step - loss: 0.0275 - val_loss: 0.0604\n",
      "Epoch 68/100\n",
      "91/91 [==============================] - 1s 7ms/step - loss: 0.0274 - val_loss: 0.0608\n",
      "Epoch 69/100\n",
      "91/91 [==============================] - 1s 8ms/step - loss: 0.0275 - val_loss: 0.0611\n",
      "Epoch 70/100\n",
      "91/91 [==============================] - 1s 7ms/step - loss: 0.0274 - val_loss: 0.0599\n",
      "Epoch 71/100\n",
      "91/91 [==============================] - 1s 7ms/step - loss: 0.0274 - val_loss: 0.0537\n",
      "Epoch 72/100\n",
      "91/91 [==============================] - 1s 8ms/step - loss: 0.0275 - val_loss: 0.0565\n",
      "Epoch 73/100\n",
      "91/91 [==============================] - 1s 9ms/step - loss: 0.0275 - val_loss: 0.0560\n",
      "Epoch 74/100\n",
      "91/91 [==============================] - 1s 7ms/step - loss: 0.0274 - val_loss: 0.0614\n",
      "Epoch 75/100\n",
      "91/91 [==============================] - 1s 8ms/step - loss: 0.0274 - val_loss: 0.0543\n",
      "Epoch 76/100\n",
      "91/91 [==============================] - 1s 7ms/step - loss: 0.0274 - val_loss: 0.0552\n",
      "Epoch 77/100\n",
      "91/91 [==============================] - 1s 7ms/step - loss: 0.0274 - val_loss: 0.0521\n",
      "Epoch 78/100\n",
      "91/91 [==============================] - 1s 7ms/step - loss: 0.0274 - val_loss: 0.0632\n",
      "Epoch 79/100\n",
      "91/91 [==============================] - 1s 7ms/step - loss: 0.0275 - val_loss: 0.0586\n",
      "Epoch 80/100\n",
      "91/91 [==============================] - 1s 7ms/step - loss: 0.0274 - val_loss: 0.0731\n",
      "Epoch 81/100\n",
      "91/91 [==============================] - 1s 7ms/step - loss: 0.0275 - val_loss: 0.0631\n",
      "Epoch 82/100\n",
      "91/91 [==============================] - 1s 8ms/step - loss: 0.0274 - val_loss: 0.0613\n",
      "Epoch 83/100\n"
     ]
    },
    {
     "name": "stdout",
     "output_type": "stream",
     "text": [
      "91/91 [==============================] - 1s 7ms/step - loss: 0.0274 - val_loss: 0.0605\n",
      "Epoch 84/100\n",
      "91/91 [==============================] - 1s 7ms/step - loss: 0.0274 - val_loss: 0.0647\n",
      "Epoch 85/100\n",
      "91/91 [==============================] - 1s 7ms/step - loss: 0.0274 - val_loss: 0.0571\n",
      "Epoch 86/100\n",
      "91/91 [==============================] - 1s 7ms/step - loss: 0.0274 - val_loss: 0.0646\n",
      "Epoch 87/100\n",
      "91/91 [==============================] - 1s 7ms/step - loss: 0.0274 - val_loss: 0.0592\n",
      "Epoch 88/100\n",
      "91/91 [==============================] - 1s 7ms/step - loss: 0.0275 - val_loss: 0.0522\n",
      "Epoch 89/100\n",
      "91/91 [==============================] - 1s 7ms/step - loss: 0.0275 - val_loss: 0.0629\n",
      "Epoch 90/100\n",
      "91/91 [==============================] - 1s 7ms/step - loss: 0.0275 - val_loss: 0.0588\n",
      "Epoch 91/100\n",
      "91/91 [==============================] - 1s 8ms/step - loss: 0.0275 - val_loss: 0.0568\n",
      "Epoch 92/100\n",
      "91/91 [==============================] - 1s 8ms/step - loss: 0.0274 - val_loss: 0.0565\n",
      "Epoch 93/100\n",
      "91/91 [==============================] - 1s 7ms/step - loss: 0.0274 - val_loss: 0.0528\n",
      "Epoch 94/100\n",
      "91/91 [==============================] - 1s 7ms/step - loss: 0.0274 - val_loss: 0.0620\n",
      "Epoch 95/100\n",
      "91/91 [==============================] - 1s 8ms/step - loss: 0.0274 - val_loss: 0.0588\n",
      "Epoch 96/100\n",
      "91/91 [==============================] - 1s 7ms/step - loss: 0.0275 - val_loss: 0.0590\n",
      "Epoch 97/100\n",
      "91/91 [==============================] - 1s 8ms/step - loss: 0.0274 - val_loss: 0.0562\n",
      "Epoch 98/100\n",
      "91/91 [==============================] - 1s 7ms/step - loss: 0.0274 - val_loss: 0.0579\n",
      "Epoch 99/100\n",
      "91/91 [==============================] - 1s 7ms/step - loss: 0.0274 - val_loss: 0.0598\n",
      "Epoch 100/100\n",
      "91/91 [==============================] - 1s 7ms/step - loss: 0.0275 - val_loss: 0.0671\n"
     ]
    },
    {
     "data": {
      "text/plain": [
       "<tensorflow.python.keras.callbacks.History at 0x212713d9390>"
      ]
     },
     "execution_count": 41,
     "metadata": {},
     "output_type": "execute_result"
    }
   ],
   "source": [
    "model2.fit(\n",
    "    x_train,\n",
    "    y_train,\n",
    "    epochs=100,\n",
    "    batch_size=64,\n",
    "    verbose=1,\n",
    "    callbacks=callbacks,\n",
    "    validation_data=(x_test, y_test)\n",
    ")"
   ]
  },
  {
   "cell_type": "code",
   "execution_count": null,
   "metadata": {},
   "outputs": [],
   "source": [
    "inputs3 = Input(shape=(1, 3))\n",
    "a = LSTM(120)(inputs)\n",
    "a = RepeatVector(10)(a)\n",
    "a = LSTM(360, return_sequences=True)(a)\n",
    "outputs3 = TimeDistributed(Dense(3))(a)\n",
    "model3 = Model(inputs=inputs3, outputs=outputs3)\n",
    "model3.compile(loss='mse', optimizer='adam')"
   ]
  },
  {
   "cell_type": "code",
   "execution_count": null,
   "metadata": {},
   "outputs": [],
   "source": [
    "model3.fit(\n",
    "    x_train,\n",
    "    y_train,\n",
    "    epochs=100,\n",
    "    batch_size=64,\n",
    "    verbose=1,\n",
    "    callbacks=callbacks,\n",
    "    validation_data=(x_test, y_test)\n",
    ")"
   ]
  }
 ],
 "metadata": {
  "kernelspec": {
   "display_name": "Python 3",
   "language": "python",
   "name": "python3"
  },
  "language_info": {
   "codemirror_mode": {
    "name": "ipython",
    "version": 3
   },
   "file_extension": ".py",
   "mimetype": "text/x-python",
   "name": "python",
   "nbconvert_exporter": "python",
   "pygments_lexer": "ipython3",
   "version": "3.6.10"
  }
 },
 "nbformat": 4,
 "nbformat_minor": 4
}
